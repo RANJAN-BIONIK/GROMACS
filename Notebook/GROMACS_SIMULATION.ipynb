{
  "cells": [
    {
      "cell_type": "markdown",
      "metadata": {
        "id": "c811BGtX4Dil"
      },
      "source": [
        "This notebook is for Gromacs simulation. the input for this notebook is the output of the CHARMM-GUI (https://www.charmm-gui.org/) solution builder."
      ]
    },
    {
      "cell_type": "code",
      "execution_count": null,
      "metadata": {
        "id": "LKcKv2sj4EjG"
      },
      "outputs": [],
      "source": [
        "!nvidia-smi"
      ]
    },
    {
      "cell_type": "code",
      "execution_count": null,
      "metadata": {
        "id": "UKclJbIp4JmO"
      },
      "outputs": [],
      "source": [
        "# upgrade cmake; required for GROMACS 2021 or higher version\n",
        "!pip install cmake --upgrade\n",
        "\n",
        "#Installing py3Dmol using pip\n",
        "!pip install py3Dmol\n",
        "\n",
        "#Importing py3Dmol for safety\n",
        "import py3Dmol\n",
        "\n",
        "#Installing biopython using pip\n",
        "!pip install biopython"
      ]
    },
    {
      "cell_type": "code",
      "execution_count": null,
      "metadata": {
        "colab": {
          "base_uri": "https://localhost:8080/"
        },
        "id": "3yYE6lo14NIX",
        "outputId": "2f44038e-b3b9-4358-af3d-45717728752b"
      },
      "outputs": [
        {
          "name": "stdout",
          "output_type": "stream",
          "text": [
            "Mounted at /content/drive\n"
          ]
        }
      ],
      "source": [
        "# Mount google drive\n",
        "from google.colab import drive\n",
        "drive.mount('/content/drive')"
      ]
    },
    {
      "cell_type": "code",
      "execution_count": null,
      "metadata": {
        "id": "PtArTFnBOtmp"
      },
      "outputs": [],
      "source": [
        "## to unzip the input generator file from CHARMM-GUI into the folder MD\n",
        "!tar -xvzf /content/drive/MyDrive/Zipped_pro/'1PROD135A.tgz' -C /content/drive/MyDrive/MD/"
      ]
    },
    {
      "cell_type": "code",
      "execution_count": null,
      "metadata": {
        "id": "pznvvyVXPMti"
      },
      "outputs": [],
      "source": [
        "## to rename the folder which was zipped (charmm) to the protein_name (here : alrD135A)\n",
        "from google.colab import drive\n",
        "import os\n",
        "\n",
        "def rename_folders_with_prefix(directory, prefix, new_name):\n",
        "    # Get list of all folders in the directory\n",
        "    folders = [f for f in os.listdir(directory) if os.path.isdir(os.path.join(directory, f))]\n",
        "\n",
        "    # Rename folders that start with the specified prefix\n",
        "    for folder in folders:\n",
        "        if folder.startswith(prefix):\n",
        "            old_path = os.path.join(directory, folder)\n",
        "            new_path = os.path.join(directory, new_name)\n",
        "            os.rename(old_path, new_path)\n",
        "            print(f\"Renamed '{folder}' to '{new_name}'\")\n",
        "\n",
        "\n",
        "# Specify the directory path in Google Drive, prefix to match, and new name\n",
        "directory_path = \"/content/drive/MyDrive/MD\"\n",
        "prefix_to_match = \"charmm\"\n",
        "new_folder_name = \"alrD135A\"\n",
        "\n",
        "# Call the function to rename folders\n",
        "rename_folders_with_prefix(directory_path, prefix_to_match, new_folder_name)\n"
      ]
    },
    {
      "cell_type": "code",
      "execution_count": null,
      "metadata": {
        "id": "jtiyTYsDQK7Z"
      },
      "outputs": [],
      "source": [
        "##going inside the unzipped folder's gromacs dircectory\n",
        "import os\n",
        "%cd /content/drive/MyDrive/MD/alrD135A/gromacs/\n",
        "!pwd"
      ]
    },
    {
      "cell_type": "code",
      "execution_count": null,
      "metadata": {
        "id": "yV5MPEFO2our"
      },
      "outputs": [],
      "source": [
        "# Creat working directory named run\n",
        "%mkdir alrD135Arun\n",
        "# Change to the directory \"run\"\n",
        "%cd alrD135Arun\n",
        "# Make sure you are in the right folder. This will show you the path :)\n",
        "!pwd"
      ]
    },
    {
      "cell_type": "code",
      "execution_count": null,
      "metadata": {
        "id": "3X0QEIHD4Ui2"
      },
      "outputs": [],
      "source": [
        "# access permission and check if gromacs works\n",
        "%%bash\n",
        "chmod +x \"/content/drive/MyDrive/gmx/gromacs/bin/gmx\"\n",
        "source \"/content/drive/MyDrive/gmx/gromacs/bin/GMXRC\"\n",
        "gmx -h"
      ]
    },
    {
      "cell_type": "code",
      "execution_count": null,
      "metadata": {
        "id": "fo-a85y3Ofq_"
      },
      "outputs": [],
      "source": [
        "## copy the files which are in the gromacs folder to the gromacs/run folder where\n",
        "## all the files will be kept from gmx command\n",
        "import os\n",
        "import shutil\n",
        "\n",
        "# Define source and destination directories\n",
        "source_dir = '/content/drive/MyDrive/MD/alrD135A/gromacs'\n",
        "destination_dir = '/content/drive/MyDrive/MD/alrD135A/gromacs/alrD135Arun'\n",
        "\n",
        "# Get list of files in source directory\n",
        "files_list = [f for f in os.listdir(source_dir) if os.path.isfile(os.path.join(source_dir, f))]\n",
        "\n",
        "# Copy each file from source directory to destination directory\n",
        "for file_name in files_list:\n",
        "    source_file_path = os.path.join(source_dir, file_name)\n",
        "    destination_file_path = os.path.join(destination_dir, file_name)\n",
        "    shutil.copyfile(source_file_path, destination_file_path)\n",
        "\n",
        "print(\"Files copied successfully!\")"
      ]
    },
    {
      "cell_type": "code",
      "execution_count": null,
      "metadata": {
        "id": "kKcNT4RdT_Fa"
      },
      "outputs": [],
      "source": [
        "#move the folder \"toppar\" to the run directory in toppar there are .itp files\n",
        "import shutil\n",
        "\n",
        "# Define source and destination directories\n",
        "source_dir = '/content/drive/MyDrive/MD/alrD135A/gromacs/toppar'\n",
        "destination_dir = '/content/drive/MyDrive/MD/alrD135A/gromacs/alrD135Arun'\n",
        "\n",
        "# Move the entire directory to the destination directory\n",
        "shutil.move(source_dir, destination_dir)\n",
        "\n",
        "print(\"Directory moved successfully!\")"
      ]
    },
    {
      "cell_type": "code",
      "execution_count": null,
      "metadata": {
        "id": "Sdn2AQxZQ71Z"
      },
      "outputs": [],
      "source": [
        "##copy the .mdp files from zipped_pro folder to the run folder as all the gmx commnad looks\n",
        "# for file in run folder until specified\n",
        "import os\n",
        "import shutil\n",
        "from google.colab import drive\n",
        "\n",
        "def copy_files_with_extension(src_directory, dest_directory, extension):\n",
        "    # Get list of all files in the source directory\n",
        "    files = [f for f in os.listdir(src_directory) if os.path.isfile(os.path.join(src_directory, f))]\n",
        "\n",
        "    # Create destination directory if it doesn't exist\n",
        "    if not os.path.exists(dest_directory):\n",
        "        os.makedirs(dest_directory)\n",
        "\n",
        "    # Copy files with the specified extension to the destination directory\n",
        "    for file in files:\n",
        "        if file.endswith(extension):\n",
        "            src_path = os.path.join(src_directory, file)\n",
        "            dest_path = os.path.join(dest_directory, file)\n",
        "            shutil.copy(src_path, dest_path)\n",
        "            print(f\"Copied '{file}' to '{dest_directory}'\")\n",
        "\n",
        "\n",
        "# Specify the source and destination directories in Google Drive, and the file extension\n",
        "source_directory = \"/content/drive/MyDrive/Zipped_pro/\"\n",
        "destination_directory = \"/content/drive/MyDrive/MD/alrD135A/gromacs/alrD135Arun\"\n",
        "file_extension = \".mdp\"\n",
        "\n",
        "# Call the function to copy files with the specified extension\n",
        "copy_files_with_extension(source_directory, destination_directory, file_extension)\n"
      ]
    },
    {
      "cell_type": "code",
      "execution_count": null,
      "metadata": {
        "id": "HR9xQ3dFzH9H"
      },
      "outputs": [],
      "source": [
        "!pwd"
      ]
    },
    {
      "cell_type": "code",
      "execution_count": null,
      "metadata": {
        "id": "pI0BU3Lo6X5N"
      },
      "outputs": [],
      "source": [
        "#revised minimization.mdp\n",
        "!cat /content/drive/MyDrive/MD/alrD135A/gromacs/alrD135Arun/MD_minimization.mdp"
      ]
    },
    {
      "cell_type": "markdown",
      "metadata": {
        "id": "6gbFkCLqOdP4"
      },
      "source": [
        "EM step it creates files like minimization(tpr,gro,trr,edr,log)\n",
        "\n",
        "addtional information of mdrun is available at https://manual.gromacs.org/current/onlinehelp/gmx-mdrun.html"
      ]
    },
    {
      "cell_type": "code",
      "execution_count": null,
      "metadata": {
        "id": "JCkV67-CQ236"
      },
      "outputs": [],
      "source": [
        "# ntmpi =1 works best for all the mdrun commnad \"step3_input\" we get it from charmm gui.\n",
        "# -pme gpu -npme 1 for increase perfomance.\n",
        "%%bash\n",
        "source \"/content/drive/MyDrive/gmx/gromacs/bin/GMXRC\"\n",
        "gmx grompp -f MD_minimization.mdp -o alrD135Aminimization.tpr -c step3_input.gro  -r step3_input.gro -p topol.top\n",
        "gmx mdrun -v -deffnm alrD135Aminimization -nb gpu -ntmpi 1"
      ]
    },
    {
      "cell_type": "markdown",
      "metadata": {
        "id": "xNi_-jG4Tf3X"
      },
      "source": [
        "get a XVG file for plot on EM per steps\n"
      ]
    },
    {
      "cell_type": "code",
      "execution_count": null,
      "metadata": {
        "id": "oXX6dmOnTk1G"
      },
      "outputs": [],
      "source": [
        "%%bash\n",
        "source \"/content/drive/MyDrive/gmx/gromacs/bin/GMXRC\"\n",
        "echo 12 | gmx energy -f alrD135Aminimization.edr -o alrD135Apotential.xvg -xvg none"
      ]
    },
    {
      "cell_type": "code",
      "execution_count": null,
      "metadata": {
        "id": "5nL8_s0PT0d5"
      },
      "outputs": [],
      "source": [
        "#plot the EM step and how much the potential energy is lowered.\n",
        "import pandas as pd\n",
        "df = pd.read_csv('alrD135Apotential.xvg', sep='\\s+', header=None, names=['step','energy(kJ Mol-1)'])\n",
        "df.plot('step')"
      ]
    },
    {
      "cell_type": "code",
      "execution_count": null,
      "metadata": {
        "id": "Fp6PuCm1XHbl"
      },
      "outputs": [],
      "source": [
        "#revised minimization.mdp\n",
        "!cat /content/drive/MyDrive/MD/alrD135A/gromacs/alrD135Arun/NVT_equilibration.mdp"
      ]
    },
    {
      "cell_type": "markdown",
      "source": [
        "Isothermal-isochoric equilibration"
      ],
      "metadata": {
        "id": "7zXjS1zapp0N"
      }
    },
    {
      "cell_type": "code",
      "execution_count": null,
      "metadata": {
        "id": "Gbpyo5gQUICZ"
      },
      "outputs": [],
      "source": [
        "%%bash\n",
        "source \"/content/drive/MyDrive/gmx/gromacs/bin/GMXRC\"\n",
        "gmx grompp -f NVT_equilibration.mdp -o alrD135ANVT_equilibration.tpr -c alrD135Aminimization.gro -r alrD135Aminimization.gro -p topol.top -n index.ndx\n",
        "gmx mdrun -v -deffnm alrD135ANVT_equilibration -nb gpu -ntmpi 1"
      ]
    },
    {
      "cell_type": "code",
      "execution_count": null,
      "metadata": {
        "id": "k1A_cPyCXmDg"
      },
      "outputs": [],
      "source": [
        "%%bash\n",
        "source \"/content/drive/MyDrive/gmx/gromacs/bin/GMXRC\"\n",
        "echo 17 |gmx energy -f alrD135ANVT_equilibration.edr -o  alrD135A-temp.xvg -xvg none"
      ]
    },
    {
      "cell_type": "code",
      "execution_count": null,
      "metadata": {
        "id": "Lh2BvDLnYrS-"
      },
      "outputs": [],
      "source": [
        "import pandas as pd\n",
        "df = pd.read_csv('alrD135A-temp.xvg', sep='\\s+', header=None, names=['time (ps)','temperature (K)'])\n",
        "df.plot('time (ps)')"
      ]
    },
    {
      "cell_type": "code",
      "execution_count": null,
      "metadata": {
        "id": "ZlpKfroaWvEr"
      },
      "outputs": [],
      "source": [
        "#revised minimization.mdp\n",
        "!cat /content/drive/MyDrive/MD/alrD135A/gromacs/alrD135Arun/NPT_equilibration.mdp\n",
        "!pwd"
      ]
    },
    {
      "cell_type": "code",
      "execution_count": null,
      "metadata": {
        "colab": {
          "background_save": true
        },
        "id": "SNgNMQzQjgpo"
      },
      "outputs": [],
      "source": [
        "%%bash\n",
        "source \"/content/drive/MyDrive/gmx/gromacs/bin/GMXRC\"\n",
        "gmx grompp -f NPT_equilibration.mdp -o alrD135ANPT_equilibration.tpr -c alrD135ANVT_equilibration.gro -r alrD135ANVT_equilibration.gro -p topol.top -n index.ndx -t alrD135ANVT_equilibration.cpt\n",
        "gmx mdrun -v -deffnm alrD135ANPT_equilibration -nb gpu -ntmpi 1"
      ]
    },
    {
      "cell_type": "code",
      "execution_count": null,
      "metadata": {
        "colab": {
          "background_save": true
        },
        "id": "9zcGnmNS-AoH"
      },
      "outputs": [],
      "source": [
        "%%bash\n",
        "source \"/content/drive/MyDrive/gmx/gromacs/bin/GMXRC\"\n",
        "## to get the  pressure change while NPTequilibration\n",
        "echo 17 |gmx energy -f alrD135ANPT_equilibration.edr -o  alrD135A-pressure.xvg -xvg none\n",
        "##to get the  density change while NPTequilibration\n",
        "echo 23 |gmx energy -f alrD135ANPT_equilibration.edr -o  alrD135A-density.xvg -xvg none"
      ]
    },
    {
      "cell_type": "code",
      "execution_count": null,
      "metadata": {
        "id": "XDIS-nkeZbqm"
      },
      "outputs": [],
      "source": [
        "#revised minimization.mdp\n",
        "!cat /content/drive/MyDrive/MD/alrD135A/gromacs/alrD135Arun/MD_production.mdp"
      ]
    },
    {
      "cell_type": "code",
      "execution_count": null,
      "metadata": {
        "id": "4UeDXnNNZoT9"
      },
      "outputs": [],
      "source": [
        "## command for MD production\n",
        "%%bash\n",
        "source \"/content/drive/MyDrive/gmx/gromacs/bin/GMXRC\"\n",
        "gmx grompp -f MD_production.mdp -o alrD135Astep5_production.tpr -c alrD135ANPT_equilibration.gro -t alrD135ANPT_equilibration.cpt -p topol.top -n index.ndx\n",
        "gmx mdrun -s alrD135Astep5_production -cpi -nb gpu -ntmpi 1"
      ]
    },
    {
      "cell_type": "code",
      "execution_count": null,
      "metadata": {
        "id": "GvADsG12l5uP"
      },
      "outputs": [],
      "source": [
        "##rename \"traj_comp\"\n",
        "import os\n",
        "\n",
        "def rename_files():\n",
        "    directory = os.getcwd()\n",
        "    files = os.listdir(directory)\n",
        "\n",
        "    for filename in files:\n",
        "        if filename == \"traj_comp.xtc\":\n",
        "            new_filename = \"alrD135Atraj_comp.xtc\"\n",
        "            os.rename(os.path.join(directory, filename), os.path.join(directory, new_filename))\n",
        "            print(f\"Renamed {filename} to {new_filename}\")\n",
        "\n",
        "rename_files()\n",
        "\n"
      ]
    },
    {
      "cell_type": "code",
      "execution_count": null,
      "metadata": {
        "id": "f57wFPBMmy3W"
      },
      "outputs": [],
      "source": [
        "import os\n",
        "\n",
        "def rename_files():\n",
        "    directory = os.getcwd()\n",
        "    files = os.listdir(directory)\n",
        "\n",
        "    for filename in files:\n",
        "        if filename == \"ener.edr\":\n",
        "            new_filename = \"alrD135Aener.edr\"\n",
        "            os.rename(os.path.join(directory, filename), os.path.join(directory, new_filename))\n",
        "            print(f\"Renamed {filename} to {new_filename}\")\n",
        "\n",
        "rename_files()\n"
      ]
    }
  ],
  "metadata": {
    "accelerator": "GPU",
    "colab": {
      "gpuType": "T4",
      "provenance": []
    },
    "kernelspec": {
      "display_name": "Python 3",
      "name": "python3"
    },
    "language_info": {
      "name": "python"
    }
  },
  "nbformat": 4,
  "nbformat_minor": 0
}