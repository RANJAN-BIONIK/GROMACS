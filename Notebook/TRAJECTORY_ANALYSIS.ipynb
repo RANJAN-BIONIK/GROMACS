{
  "cells": [
    {
      "cell_type": "markdown",
      "metadata": {
        "id": "VqC4heQy29b2"
      },
      "source": [
        "Analysis of the previously generated trajectory.\n",
        "\n",
        "for help refer: https://manual.gromacs.org/2024.2/reference-manual/analysis/analysis.html"
      ]
    },
    {
      "cell_type": "code",
      "execution_count": null,
      "metadata": {
        "id": "jACTKnr34R6G"
      },
      "outputs": [],
      "source": [
        "## index geneeation for the input file\n",
        "%%bash\n",
        "source \"/content/drive/MyDrive/gmx/gromacs/bin/GMXRC\"\n",
        "echo -e '\"Protein\" | \"UNK\" \\n q' |gmx make_ndx -f step3_input.pdb  -o alrY364D_PROTEIN_UNK.ndx"
      ]
    },
    {
      "cell_type": "code",
      "execution_count": null,
      "metadata": {
        "id": "3TkzlEpl7KzJ"
      },
      "outputs": [],
      "source": [
        "## should be changeed evrytime accoridng to the PDB file atom nunber of  PROA and PROB start and end atoms\n",
        "%%bash\n",
        "source \"/content/drive/MyDrive/gmx/gromacs/bin/GMXRC\"\n",
        "echo -e '1 & a 1-5552 \\n q' |gmx make_ndx -f step3_input.pdb  -o alrY364D_index_for_chain_A.ndx\n",
        "echo -e '1 & a 5553-11104 \\n q' |gmx make_ndx -f step3_input.pdb  -o alrY364D_index_for_chain_B.ndx"
      ]
    },
    {
      "cell_type": "code",
      "execution_count": null,
      "metadata": {
        "id": "TYJDiPutqV6D"
      },
      "outputs": [],
      "source": [
        "import os\n",
        "\n",
        "def merge_files(file_names, output_file_name):\n",
        "    try:\n",
        "        with open(output_file_name, 'w') as output_file:\n",
        "            for file_name in file_names:\n",
        "                with open(file_name, 'r') as input_file:\n",
        "                    output_file.write(input_file.read())\n",
        "                    output_file.write('\\n')  # Add a newline after each file's content\n",
        "        print(\"Files merged successfully!\")\n",
        "    except FileNotFoundError as e:\n",
        "        print(f\"Error: {e.filename} not found.\")\n",
        "    except Exception as e:\n",
        "        print(f\"An error occurred: {str(e)}\")\n",
        "\n",
        "# List the filenames of the four files you want to merge\n",
        "file_names = ['index.ndx', 'alrY364D_PROTEIN_UNK.ndx', 'alrY364D_index_for_chain_A.ndx', 'alrY364D_index_for_chain_B.ndx']\n",
        "output_file_name = 'alrY364D_merged_index.ndx'\n",
        "\n",
        "merge_files(file_names, output_file_name)\n"
      ]
    },
    {
      "cell_type": "code",
      "execution_count": null,
      "metadata": {
        "id": "DIA21AnX03DN"
      },
      "outputs": [],
      "source": [
        "## The root mean square deviation (RMSD) is a practical parameter to compare the\n",
        "## backbones of a protein from its initial to final state, which illustrates\n",
        "## the dynamics of structure during the simulation.\n",
        "%%bash\n",
        "source \"/content/drive/MyDrive/gmx/gromacs/bin/GMXRC\"\n",
        "echo 4 4 | gmx rms -s alrY364Dstep5_production.tpr -f alrY364D_10ns.xtc -o alrY364Dproduction_rmsd_whole.xvg -xvg xmgrace -dist alrY364Dproduction_rmsd_dist_whole.xvg"
      ]
    },
    {
      "cell_type": "code",
      "source": [
        "%%bash\n",
        "source \"/content/drive/MyDrive/gmx/gromacs/bin/GMXRC\"\n",
        "echo 16  | gmx msd -s alrY364Dstep5_production.tpr -f alrY364D_10ns.xtc -o alrY364D_MSD_UNK.xvg -xvg xmgrace -mol alrY364D_MSD_UNK_RES.xvg -n alrY364D_merged_index.ndx\n",
        "echo 4  | gmx msd -s alrY364Dstep5_production.tpr -f alrY364D_10ns.xtc -o alrY364D_MSD_PRO.xvg -xvg xmgrace -mol alrY364D_MSD_PRO_RES.xvg -n alrY364D_merged_index.ndx"
      ],
      "metadata": {
        "id": "MjCyiY-MKRJh"
      },
      "execution_count": null,
      "outputs": []
    },
    {
      "cell_type": "code",
      "execution_count": null,
      "metadata": {
        "id": "iFMuUgEBwIlc"
      },
      "outputs": [],
      "source": [
        "## The root mean square deviation (RMSD) is a practical parameter to compare the\n",
        "## backbones of a protein from its initial to final state, which illustrates\n",
        "## the dynamics of structure during the simulation. only for the ligand\n",
        "%%bash\n",
        "source \"/content/drive/MyDrive/gmx/gromacs/bin/GMXRC\"\n",
        "echo 4 13 | gmx rms -s alrY364Dstep5_production.tpr -f alrY364D_10ns.xtc -o alrY364Dproduction_rmsd_BACK_UNK.xvg -xvg xmgrace -dist alrY364Dproduction_rmsd_dist_BACK_UNK.xvg"
      ]
    },
    {
      "cell_type": "code",
      "execution_count": null,
      "metadata": {
        "id": "zuVK7VsKWRCc"
      },
      "outputs": [],
      "source": [
        "##RMSD OF UNK ligand\n",
        "%%bash\n",
        "source \"/content/drive/MyDrive/gmx/gromacs/bin/GMXRC\"\n",
        "echo 13 13 | gmx rms -s alrY364Dstep5_production.tpr -f alrY364D_10ns.xtc -o alrY364Dproduction_rmsd_UNK_UNK.xvg -xvg xmgrace -dist alrY364Dproduction_rmsd_dist_UNK_UNK.xvg"
      ]
    },
    {
      "cell_type": "code",
      "execution_count": null,
      "metadata": {
        "id": "PfyW6CTE1SOe"
      },
      "outputs": [],
      "source": [
        "##check the energy\n",
        "%%bash\n",
        "source \"/content/drive/MyDrive/gmx/gromacs/bin/GMXRC\"\n",
        "echo 13| gmx energy -f alrY364Dener.edr -o alrY364Dproduction_Total_energy.xvg -xvg xmgrace\n",
        "echo 6| gmx energy -f alrY364Dener.edr -o alrY364Dproduction_LJ_14.xvg -xvg xmgrace\n",
        "echo 7| gmx energy -f alrY364Dener.edr -o alrY364Dproduction_Coulomb_14.xvg -xvg xmgrace\n",
        "echo 8| gmx energy -f alrY364Dener.edr -o alrY364Dproduction_LJ_SR.xvg -xvg xmgrace\n",
        "echo 9| gmx energy -f alrY364Dener.edr -o alrY364Dproduction_Coulomb_SR.xvg -xvg xmgrace"
      ]
    },
    {
      "cell_type": "code",
      "execution_count": null,
      "metadata": {
        "id": "GC0V7CW__LhK"
      },
      "outputs": [],
      "source": [
        "#sasa by ligand\n",
        "%%bash\n",
        "source \"/content/drive/MyDrive/gmx/gromacs/bin/GMXRC\"\n",
        "echo 16 | gmx sasa -s alrY364Dstep5_production.tpr -f alrY364D_10ns.xtc -o alrY364D_SASA_UNK.xvg -oa alrY364D_per_atom_UNK.xvg -or alrY364D_SASA_per_res_UNK.xvg -xvg xmgrace -n alrY364D_merged_index.ndx"
      ]
    },
    {
      "cell_type": "code",
      "execution_count": null,
      "metadata": {
        "id": "06FJKSMy_NoK"
      },
      "outputs": [],
      "source": [
        "#sasa by chain of protein\n",
        "%%bash\n",
        "source \"/content/drive/MyDrive/gmx/gromacs/bin/GMXRC\"\n",
        "echo 38 | gmx sasa -s alrY364Dstep5_production.tpr -f alrY364D_10ns.xtc -o alrY364D_chain_A_SASA.xvg -oa alrY364D_chain_A_SASA_per_atom.xvg -or alrY364D_chain_A_SASA_per_res.xvg -xvg xmgrace -n alrY364D_merged_index.ndx\n",
        "echo 56 | gmx sasa -s alrY364Dstep5_production.tpr -f alrY364D_10ns.xtc -o alrY364D_chain_B_SASA.xvg -oa alrY364D_chain_B_SASA_per_atom.xvg -or alrY364D_chain_B_SASA_per_res.xvg -xvg xmgrace -n alrY364D_merged_index.ndx"
      ]
    },
    {
      "cell_type": "code",
      "execution_count": null,
      "metadata": {
        "id": "cMnKGQBoUMGn"
      },
      "outputs": [],
      "source": [
        "#rmsf\n",
        "%%bash\n",
        "source \"/content/drive/MyDrive/gmx/gromacs/bin/GMXRC\"\n",
        "echo 7| gmx rmsf -s alrY364Dstep5_production.tpr -f alrY364D_10ns.xtc -o alrY364Drmsf_whole_BACK.xvg  -xvg xmgrace -n alrY364D_merged_index.ndx\n",
        "echo 16| gmx rmsf -s alrY364Dstep5_production.tpr -f alrY364D_10ns.xtc -o alrY364Drmsf.xvg  -xvg xmgrace -n alrY364D_merged_index.ndx\n",
        "echo 38| gmx rmsf -s alrY364Dstep5_production.tpr -f alrY364D_10ns.xtc -o alrY364Drmsf_chain_A.xvg  -xvg xmgrace -n alrY364D_merged_index.ndx\n",
        "echo 56| gmx rmsf -s alrY364Dstep5_production.tpr -f alrY364D_10ns.xtc -o alrY364Drmsf_chain_B.xvg  -xvg xmgrace -n alrY364D_merged_index.ndx"
      ]
    },
    {
      "cell_type": "code",
      "execution_count": null,
      "metadata": {
        "id": "g8QRzumK1m3n"
      },
      "outputs": [],
      "source": [
        "#rmsf WRT residues\n",
        "%%bash\n",
        "source \"/content/drive/MyDrive/gmx/gromacs/bin/GMXRC\"\n",
        "echo 38 | gmx rmsf -s alrY364Dstep5_production.tpr -f alrY364D_10ns.xtc -o alrY364Drmsf_chain_A_RESYES.xvg  -xvg xmgrace -n alrY364D_merged_index.ndx -res yes\n",
        "echo 56| gmx rmsf -s alrY364Dstep5_production.tpr -f alrY364D_10ns.xtc -o alrY364Drmsf_chain_B_RESYES.xvg  -xvg xmgrace -n alrY364D_merged_index.ndx -res yes"
      ]
    },
    {
      "cell_type": "code",
      "execution_count": null,
      "metadata": {
        "id": "J4wfd7Q6czmJ"
      },
      "outputs": [],
      "source": [
        "##Radius of gyration of protein chains, ligand\n",
        "%%bash\n",
        "source \"/content/drive/MyDrive/gmx/gromacs/bin/GMXRC\"\n",
        "echo 38 | gmx gyrate --s alrY364Dstep5_production.tpr -f alrY364D_10ns.xtc  -o alrY364Dgyrate_chain_A.xvg -xvg xmgrace -n alrY364D_merged_index.ndx\n",
        "echo 56 | gmx gyrate --s alrY364Dstep5_production.tpr -f alrY364D_10ns.xtc  -o alrY364Dgyrate_chain_B.xvg -xvg xmgrace -n alrY364D_merged_index.ndx\n",
        "echo 1| gmx gyrate --s alrY364Dstep5_production.tpr -f alrY364D_10ns.xtc  -o alrY364Dgyrate_whole.xvg -xvg xmgrace\n",
        "echo 13| gmx gyrate --s alrY364Dstep5_production.tpr -f alrY364D_10ns.xtc  -o alrY364Dgyrate_UNK.xvg -xvg xmgrace"
      ]
    },
    {
      "cell_type": "code",
      "execution_count": null,
      "metadata": {
        "id": "sD9cgl3mtTGf"
      },
      "outputs": [],
      "source": [
        "##distance the resid is from step3_input.pdb files TYR 271 OH UNK 0 C10 add atoom numbber accodng to PDB file\n",
        "%%bash\n",
        "source \"/content/drive/MyDrive/gmx/gromacs/bin/GMXRC\"\n",
        "\n",
        "gmx distance --s alrY364Dstep5_production.tpr -f alrY364D_10ns.xtc -select  'atomnr 9438 plus atomnr 11135' -xvg xmgrace -oall alrY364D_dis.xvg -oh alrY364D_dis_histogram.xvg"
      ]
    },
    {
      "cell_type": "code",
      "execution_count": null,
      "metadata": {
        "id": "x_qUMJdTyowB"
      },
      "outputs": [],
      "source": [
        "import os\n",
        "import zipfile\n",
        "from google.colab import files\n",
        "\n",
        "def zip_and_download(folder_path):\n",
        "    # Get the list of files with .xvg extension in the folder\n",
        "    files_to_zip = [f for f in os.listdir(folder_path) if os.path.isfile(os.path.join(folder_path, f)) and f.endswith('.xvg')]\n",
        "\n",
        "    if len(files_to_zip) == 0:\n",
        "        print(\"No .xvg files found in the folder.\")\n",
        "        return\n",
        "\n",
        "    # Create a zip file\n",
        "    zip_file_name = 'alrY364D_xvg_files.zip'\n",
        "    with zipfile.ZipFile(zip_file_name, 'w') as zipf:\n",
        "        for file in files_to_zip:\n",
        "            zipf.write(os.path.join(folder_path, file), arcname=file)\n",
        "\n",
        "    # Download the zip file\n",
        "    files.download(zip_file_name)\n",
        "\n",
        "# Replace 'content' with the folder name you want to search for .xvg files\n",
        "folder_path = '/content/drive/MyDrive/MD/alrY364D/'\n",
        "zip_and_download(folder_path)\n"
      ]
    },
    {
      "cell_type": "markdown",
      "source": [
        "All the XVG files are visualized in Xmgrace software. https://plasma-gate.weizmann.ac.il/Grace/"
      ],
      "metadata": {
        "id": "1D79aOi3tU96"
      }
    }
  ],
  "metadata": {
    "colab": {
      "provenance": [],
      "gpuType": "T4"
    },
    "kernelspec": {
      "display_name": "Python 3",
      "name": "python3"
    },
    "language_info": {
      "name": "python"
    },
    "accelerator": "GPU"
  },
  "nbformat": 4,
  "nbformat_minor": 0
}